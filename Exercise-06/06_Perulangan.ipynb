{
 "cells": [
  {
   "cell_type": "markdown",
   "metadata": {},
   "source": [
    "***\n",
    "<h1 align=\"center\">Exercise 06</h1>\n",
    " \n",
    "***\n",
    "## While Loop\n",
    "## Exercise 6.1\n",
    "isilah bagian rumpang berikut. xx diganti tanggal lahir dan yy diganti menjadi bulan lahir. tandanya menyesuaikan yang lebih besar."
   ]
  },
  {
   "cell_type": "code",
   "execution_count": 1,
   "metadata": {},
   "outputs": [
    {
     "name": "stdout",
     "output_type": "stream",
     "text": [
      "There is no limit of struggling\n",
      "There is no limit of struggling\n",
      "There is no limit of struggling\n",
      "There is no limit of struggling\n",
      "There is no limit of struggling\n",
      "There is no limit of struggling\n",
      "There is no limit of struggling\n",
      "There is no limit of struggling\n",
      "There is no limit of struggling\n",
      "There is no limit of struggling\n"
     ]
    }
   ],
   "source": [
    "#menentukan banyak pengulangan\n",
    "n = 18\n",
    "\n",
    "#melakukan pengulangan\n",
    "i = 8\n",
    "\n",
    "while i < n :\n",
    "    print (\"There is no limit of struggling\")\n",
    "    #diisi motto kalian\n",
    "    i = i + 1 # sesuaikan dengan atas agar fungsi perulangan dapat berhenti\n"
   ]
  },
  {
   "cell_type": "markdown",
   "metadata": {},
   "source": [
    "## Exercise 6.2\n",
    "\n",
    "Buatlah code seperti yang dicontohkan pada modul agar user dapat menginputkan sendiri jumlah n yang diinginkan"
   ]
  },
  {
   "cell_type": "code",
   "execution_count": 3,
   "metadata": {},
   "outputs": [
    {
     "name": "stdout",
     "output_type": "stream",
     "text": [
      "6\n",
      "7\n",
      "8\n",
      "9\n",
      "10\n",
      "11\n",
      "12\n"
     ]
    }
   ],
   "source": [
    "#Kerjakan disini\n",
    "#menentukan banyak pengulangan\n",
    "n = int(input(\"input nilai n: \"))\n",
    "\n",
    "#melakukan pengulangan\n",
    "i = 6\n",
    "\n",
    "while i <= n :\n",
    "    print (i)\n",
    "    i = i + 1"
   ]
  },
  {
   "cell_type": "markdown",
   "metadata": {},
   "source": [
    "## Excercise 6.3\n",
    "\n",
    "isilah xx, yy, dan tanda rumpang seperti pada exercise 6.1\n"
   ]
  },
  {
   "cell_type": "code",
   "execution_count": 4,
   "metadata": {},
   "outputs": [
    {
     "name": "stdout",
     "output_type": "stream",
     "text": [
      "Baris ke-18 : Avengers\n",
      "Baris ke-17 : Avengers\n",
      "Baris ke-16 : Avengers\n",
      "Baris ke-15 : Avengers\n",
      "Baris ke-14 : Avengers\n",
      "Baris ke-13 : Avengers\n",
      "Baris ke-12 : Avengers\n",
      "Baris ke-11 : Avengers\n",
      "Baris ke-10 : Avengers\n",
      "Baris ke-9 : Avengers\n"
     ]
    }
   ],
   "source": [
    "#melakukan pengulangan\n",
    "i = 18\n",
    "\n",
    "while i > 8 :\n",
    "    print (\"Baris ke-%d : Avengers\"%i)\n",
    "    #isi titik-titik dengan judul film favorit kalian\n",
    "    i = i - 1 "
   ]
  },
  {
   "cell_type": "markdown",
   "metadata": {},
   "source": [
    "## FOR LOOP\n",
    "\n",
    "## Exercise 6.4\n",
    "\n",
    "munculkan 3 dari 7 elemen yang berada di dalam list1 dan list2\n"
   ]
  },
  {
   "cell_type": "code",
   "execution_count": 7,
   "metadata": {},
   "outputs": [
    {
     "name": "stdout",
     "output_type": "stream",
     "text": [
      "1 Indomie Surakarta\n",
      "2 Nasi Goreng Semarang\n",
      "3 Rendang Jogja\n"
     ]
    }
   ],
   "source": [
    "list1 = [\"Indomie\", \"Nasi Goreng\", \"Rendang\", \"Bakso\", \"Siomay\", \"Mie Ayam\", \"Geprek\"] #masukkan 7 list makanan favorit kalian\n",
    "list2 = [\"Surakarta\", \"Semarang\", \"Jogja\", \"Surabaya\", \"Sukoharjo\", \"Purwokerto\", \"Magetan\"] #masukkan 7 list kota favorit kalian\n",
    "\n",
    "for i in range(0,3) :\n",
    "    print(i+1, list1[i] , list2[i])"
   ]
  },
  {
   "cell_type": "markdown",
   "metadata": {},
   "source": [
    "## Perulangan Bersarang\n",
    "\n",
    "## Exercise 6.5"
   ]
  },
  {
   "cell_type": "code",
   "execution_count": 10,
   "metadata": {},
   "outputs": [
    {
     "name": "stdout",
     "output_type": "stream",
     "text": [
      "324 \n",
      "306 289 \n",
      "288 272 256 \n",
      "270 255 240 225 \n",
      "252 238 224 210 196 \n",
      "234 221 208 195 182 169 \n",
      "216 204 192 180 168 156 144 \n",
      "198 187 176 165 154 143 132 121 \n",
      "180 170 160 150 140 130 120 110 100 \n",
      "162 153 144 135 126 117 108 99 90 81 \n"
     ]
    }
   ],
   "source": [
    "i = 18\n",
    "while i > 8:\n",
    "    j = 18\n",
    "    while j>=i:\n",
    "        print(\"%d \" % (i*j), end = '')\n",
    "        j = j - 1\n",
    "    print()\n",
    "    i-=1"
   ]
  },
  {
   "cell_type": "markdown",
   "metadata": {},
   "source": [
    "## Pernyataan Loncat\n",
    "\n",
    "## Exercise 6.\n",
    "\n",
    "Buatlah fungsi berikut agar muncul angka hingga berhenti sesuai dengan nilai qq\n",
    "qq = angka favorit kalian\n",
    "pp>qq"
   ]
  },
  {
   "cell_type": "code",
   "execution_count": 11,
   "metadata": {},
   "outputs": [
    {
     "name": "stdout",
     "output_type": "stream",
     "text": [
      "01234567891011121314151617181920212223"
     ]
    }
   ],
   "source": [
    "for i in range(64):\n",
    "    print(i,end='')\n",
    "    if i == 23:\n",
    "        break"
   ]
  },
  {
   "cell_type": "markdown",
   "metadata": {},
   "source": [
    "***\n",
    "<h1 align=\"center\">WELL DONE</h1>\n",
    " \n",
    "***"
   ]
  }
 ],
 "metadata": {
  "interpreter": {
   "hash": "cd08f94adcf3cbae37fe85286256f4c2a10455ca9094fd053e9f3d3f09647223"
  },
  "kernelspec": {
   "display_name": "Python 3.9.7 64-bit",
   "language": "python",
   "name": "python3"
  },
  "language_info": {
   "codemirror_mode": {
    "name": "ipython",
    "version": 3
   },
   "file_extension": ".py",
   "mimetype": "text/x-python",
   "name": "python",
   "nbconvert_exporter": "python",
   "pygments_lexer": "ipython3",
   "version": "3.10.2"
  },
  "orig_nbformat": 4
 },
 "nbformat": 4,
 "nbformat_minor": 2
}
